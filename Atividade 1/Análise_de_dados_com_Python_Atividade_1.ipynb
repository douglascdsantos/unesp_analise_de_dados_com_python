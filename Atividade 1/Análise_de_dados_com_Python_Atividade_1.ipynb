{
  "nbformat": 4,
  "nbformat_minor": 0,
  "metadata": {
    "colab": {
      "name": "Análise de dados com Python  Atividade 1.ipynb",
      "provenance": [],
      "authorship_tag": "ABX9TyOTJkNPuCbtJ5t/Ap29a+qI",
      "include_colab_link": true
    },
    "kernelspec": {
      "name": "python3",
      "display_name": "Python 3"
    },
    "language_info": {
      "name": "python"
    }
  },
  "cells": [
    {
      "cell_type": "markdown",
      "metadata": {
        "id": "view-in-github",
        "colab_type": "text"
      },
      "source": [
        "<a href=\"https://colab.research.google.com/github/douglascdsantos/unesp_analise_de_dados_com_python/blob/main/Atividade%201/An%C3%A1lise_de_dados_com_Python_Atividade_1.ipynb\" target=\"_parent\"><img src=\"https://colab.research.google.com/assets/colab-badge.svg\" alt=\"Open In Colab\"/></a>"
      ]
    },
    {
      "cell_type": "markdown",
      "metadata": {
        "id": "jFddcF3ahkmf"
      },
      "source": [
        "# Análise de dados com Python Atividade 1\n",
        "Discente: Douglas Camargo dos Santos"
      ]
    },
    {
      "cell_type": "markdown",
      "metadata": {
        "id": "J6o9LcfJW7dw"
      },
      "source": [
        "## Exercício 01 (c)\n",
        "<center><img src=\"https://cdn.loom.com/images/originals/5bf60b8a097d4dc18557eb92662701a8.jpg?Expires=1637366857&Policy=eyJTdGF0ZW1lbnQiOlt7IlJlc291cmNlIjoiaHR0cHM6Ly9jZG4ubG9vbS5jb20vaW1hZ2VzL29yaWdpbmFscy81YmY2MGI4YTA5N2Q0ZGMxODU1N2ViOTI2NjI3MDFhOC5qcGciLCJDb25kaXRpb24iOnsiRGF0ZUxlc3NUaGFuIjp7IkFXUzpFcG9jaFRpbWUiOjE2MzczNjY4NTd9fX1dfQ__&Signature=KySxkbC904xEcO3B2voglqGYIobTRHetiFqjoc8l9W7-XtcMlLyJv60ODZJZij0trTbSkr9sgtuEH9aZ0EFVnwOHqC3FP~pO~Nw7BtRLfIo~1CaHTjWNyZIwcWNMNL3cATJq84RBX4IRTAZVNNrWYA16M4FmMu5ABw453yOC5NtBVYuCwbKMQSfWzb0DYltzWd0S3FyOJqCc9mqFMCO0DPsDgV6-vCWb7Xt4onM0UqjzqToCad5zGQ-VGIthzGErCxE8aU3UuyU1GWuH822M0QRAAsuPwYHuPkV6kkCXbizQ1hBo36uw1UdAkylax70Bckh2oKsiHqxYY4RI0Yz9eA__&Key-Pair-Id=APKAJQIC5BGSW7XXK7FQ\"></center>"
      ]
    },
    {
      "cell_type": "code",
      "metadata": {
        "id": "Q9imLWs1h_73",
        "outputId": "de31404e-3331-4076-907d-c1a4643d72d7",
        "colab": {
          "base_uri": "https://localhost:8080/"
        }
      },
      "source": [
        "10%3"
      ],
      "execution_count": 1,
      "outputs": [
        {
          "output_type": "execute_result",
          "data": {
            "text/plain": [
              "1"
            ]
          },
          "metadata": {},
          "execution_count": 1
        }
      ]
    },
    {
      "cell_type": "markdown",
      "metadata": {
        "id": "q2uyA8pqYl_4"
      },
      "source": [
        "## Exercício 02 (d)\n",
        "<center><img src=\"https://cdn.loom.com/images/originals/88129ea192da4167923a675602febc95.jpg?Expires=1637367091&Policy=eyJTdGF0ZW1lbnQiOlt7IlJlc291cmNlIjoiaHR0cHM6Ly9jZG4ubG9vbS5jb20vaW1hZ2VzL29yaWdpbmFscy84ODEyOWVhMTkyZGE0MTY3OTIzYTY3NTYwMmZlYmM5NS5qcGciLCJDb25kaXRpb24iOnsiRGF0ZUxlc3NUaGFuIjp7IkFXUzpFcG9jaFRpbWUiOjE2MzczNjcwOTF9fX1dfQ__&Signature=jaKro8m4BtVXy958wM2KTAFis4eLFaEqqkY05qWQMm1kml9wVmtfLs1IlL4CNamsezSvivBw1AFArSDIipxizgN5qSbCRhvtiFwbGErrGkVsmDWm1x4ussimZnVBSR1F4LRLFuUd6-8joeQvsvgbDPPviSw4sSIyL2xYnWf7Jon3zHu26Nscr5yLj6NHK2rZSjNOLuJmEyHhkBWgawOOa098PEen9lZNSBdAU~f3hPBc6ISZUxbudYZt~aeRrOSVF0CzYgDms2UacyRQVqQm2ReOGje41QHau4jAWY7VUq~pQs3Egu2Ckl01WiIXLbLirKjYHQrFwuYuCBqt0urk5g__&Key-Pair-Id=APKAJQIC5BGSW7XXK7FQ\"></center>"
      ]
    },
    {
      "cell_type": "markdown",
      "metadata": {
        "id": "FpYWH-XUYn3_"
      },
      "source": [
        "## Exercício 03 (a)\n",
        "<center><img  src=\"https://cdn.loom.com/images/originals/b73b481d607a459a98dc7922935263e9.jpg?Expires=1637367318&Policy=eyJTdGF0ZW1lbnQiOlt7IlJlc291cmNlIjoiaHR0cHM6Ly9jZG4ubG9vbS5jb20vaW1hZ2VzL29yaWdpbmFscy9iNzNiNDgxZDYwN2E0NTlhOThkYzc5MjI5MzUyNjNlOS5qcGciLCJDb25kaXRpb24iOnsiRGF0ZUxlc3NUaGFuIjp7IkFXUzpFcG9jaFRpbWUiOjE2MzczNjczMTh9fX1dfQ__&Signature=tNAFtOF0zohXrEizhY-oyUwMbUe9IGk5qOVzPsGGfmRSGB3YCNxHOlJ5EkP5KhNXF9RvUovLexfPvifTF7bvVuIE-YkCgVQepz0ySKq4fdNkn0By1dbkDRX1wu7ZK-vdVQDU3tevziVU1hUwd4YrGiIxaSsybTbZ5bCttR03fXiXuy0Di6gQ-Br9PYusE034OM4L56F69gBJmwMjTezHNWscrNIDYhviSkpzHE30kSX26oDqOHge5M2E2LNGaTAIs5CCg3ITZM5zkZAohohF-Pje1mlDYVNSRuQat~KwkNE~D~7-nBmPFO8HiPN93vinD8y0PgnSRia6JKjfep-P-g__&Key-Pair-Id=APKAJQIC5BGSW7XXK7FQ\"></center>"
      ]
    },
    {
      "cell_type": "markdown",
      "metadata": {
        "id": "Y3ZG2BxlYptX"
      },
      "source": [
        "## Exercício 04 (c)\n",
        "<center><img  src=\"https://cdn.loom.com/images/originals/6f5cb5c42b2d45aaa80fc2e45e57f599.jpg?Expires=1637367396&Policy=eyJTdGF0ZW1lbnQiOlt7IlJlc291cmNlIjoiaHR0cHM6Ly9jZG4ubG9vbS5jb20vaW1hZ2VzL29yaWdpbmFscy82ZjVjYjVjNDJiMmQ0NWFhYTgwZmMyZTQ1ZTU3ZjU5OS5qcGciLCJDb25kaXRpb24iOnsiRGF0ZUxlc3NUaGFuIjp7IkFXUzpFcG9jaFRpbWUiOjE2MzczNjczOTZ9fX1dfQ__&Signature=tBAXk~ACybOLxAEjjIP7MfLWajAZxteK1QIKhl1nz4pDApj8uStvJhiNll-jfoLFZxK4n~OWXEG9mXTyAvpI3~CPC3zWjGcssPcnOMc04BT~ps2Boz0nuNlb-3Vi2fSASR8IUHA9d-FmRHL3Hi8B51-YN2V91iYpqsUyH~zneV~8XdFn-fG86hQk15qYNSoU78dkamuFNH0p7xE5~yhoNDlVTEv-j~2I97ewtR8nt93J6I2mt3WwUD-vTpSBXXxcExpqOSdpBaSDWpKcVul4hO-z-niNR-iGHQjW~1p8ONxQVgmTnUkG8WC~zGSZZ8ifelumk7-vPl7DSIigA0K0Vg__&Key-Pair-Id=APKAJQIC5BGSW7XXK7FQ\"></center>"
      ]
    },
    {
      "cell_type": "markdown",
      "metadata": {
        "id": "F6SlqJdmYrx_"
      },
      "source": [
        "## Exercício 05 (a)\n",
        "<center><img  src=\"https://cdn.loom.com/images/originals/795d2e12dd61469097a05bcfb01e35e0.jpg?Expires=1637367609&Policy=eyJTdGF0ZW1lbnQiOlt7IlJlc291cmNlIjoiaHR0cHM6Ly9jZG4ubG9vbS5jb20vaW1hZ2VzL29yaWdpbmFscy83OTVkMmUxMmRkNjE0NjkwOTdhMDViY2ZiMDFlMzVlMC5qcGciLCJDb25kaXRpb24iOnsiRGF0ZUxlc3NUaGFuIjp7IkFXUzpFcG9jaFRpbWUiOjE2MzczNjc2MDl9fX1dfQ__&Signature=Z8ffXHAlWfsfRBART-ThU90Ke1zsWmVNWD85lA1nyciJwiBGUR07DJMJS8lzVmB31qYCDv0e8LxfU40AZXRE6sdchwt7pGVLWI20PKIS56U2EVFEz--QG19u0G3fEguHpE-qMadeRqQcbZFrOhwTx2W~iiDiR7NdlrRTgfZBIiZqhPjv5ikU~QezBaYNCV8BTzs1v6Z3QYNECz-uou2WH8cFb-RnbA7IFCl1GuxNIJ5WJlOdpCafrFL6nMw53csz9tMoXhix7eO5NG-h~mueY~Go8Mkrto0hPtgY105fYUovSAabCl-pXkYLI3QrCh86wupFTa9j~g9b5seJ8xzgdw__&Key-Pair-Id=APKAJQIC5BGSW7XXK7FQ\"></center>"
      ]
    },
    {
      "cell_type": "markdown",
      "metadata": {
        "id": "O1Q2HQk1Ytzm"
      },
      "source": [
        "## Exercício 06 (a)\n",
        "<center><img  src=\"https://cdn.loom.com/images/originals/2d0558d8c7d947a6b075fe0b386ed9fd.jpg?Expires=1637367682&Policy=eyJTdGF0ZW1lbnQiOlt7IlJlc291cmNlIjoiaHR0cHM6Ly9jZG4ubG9vbS5jb20vaW1hZ2VzL29yaWdpbmFscy8yZDA1NThkOGM3ZDk0N2E2YjA3NWZlMGIzODZlZDlmZC5qcGciLCJDb25kaXRpb24iOnsiRGF0ZUxlc3NUaGFuIjp7IkFXUzpFcG9jaFRpbWUiOjE2MzczNjc2ODJ9fX1dfQ__&Signature=F2OAKY396lKUQaI5542HOOk8tQsP-fprMD3SY4wGU5tCupfBoIKuMbu8k9vBHZtBLqKXet8OVyYShl8Nt86IfWNn2SrUzhmtclv93heHvzkHoXzQNw4gbL~H-rz3W0YNm~uLgvFsJJP9XYvI-03aYTEBbQp6vA~4dpxtJKK2ZXDYHOf4zQz1kkwPV8lqi5RIEUS2B908ePxBnjWkXGHY5dkG1ZM2bR78wkGmY7U8OvGbZetkznyg~gglVWRyeTeld7skjrfaI6kMVKLlsbRjyLAdFKySaEQzppQ4eIrB16fWggQXRzh1ioBo~qzj0dPdR6jtEHClqA3iVmHnDkZOUw__&Key-Pair-Id=APKAJQIC5BGSW7XXK7FQ\"></center>"
      ]
    },
    {
      "cell_type": "markdown",
      "metadata": {
        "id": "7QSFtBxaYvgH"
      },
      "source": [
        "## Exercício 07 (c)\n",
        "<center><img  src=\"https://cdn.loom.com/images/originals/c923a8c563344d60b9e2eb850da4f008.jpg?Expires=1637367730&Policy=eyJTdGF0ZW1lbnQiOlt7IlJlc291cmNlIjoiaHR0cHM6Ly9jZG4ubG9vbS5jb20vaW1hZ2VzL29yaWdpbmFscy9jOTIzYThjNTYzMzQ0ZDYwYjllMmViODUwZGE0ZjAwOC5qcGciLCJDb25kaXRpb24iOnsiRGF0ZUxlc3NUaGFuIjp7IkFXUzpFcG9jaFRpbWUiOjE2MzczNjc3MzB9fX1dfQ__&Signature=LCdduXkr5zXAFRpqKdSxxufsF3ROlddqIp9urIHto6J9Byy0~pnPqSaEwwXSSyTk4lpqTOtKgruJQbIKvE2yDRsx3U3hzWzi-7cAaIWF8-prBdgxnRjbkKExSzvPTJIwGWbpZ7qQXngy0ANGy1yIMYX-dRypig-Jz7tuzJw4qNf13H35BXVCQLqbIkh3jSWjjIWvFatj44pzZrRWAdVYmD4cmQXoKCXdfXLBQsnbo68bO1mPKPJG2GSvGpgvKAr2-oJpDdApvBmIl-2qiIIqFUds7MX4lzffss8hbec0Ca-yviYUqPVuUwbuatfnk6tk04vZh~5zkudEq0OZrmGXRA__&Key-Pair-Id=APKAJQIC5BGSW7XXK7FQ\"></center>"
      ]
    },
    {
      "cell_type": "markdown",
      "metadata": {
        "id": "eKyCe0teYxA_"
      },
      "source": [
        "## Exercício 08 (a)\n",
        "<center><img  src=\"https://cdn.loom.com/images/originals/8895aad1d9a04628a8f3b78e3d9f0dec.jpg?Expires=1637367859&Policy=eyJTdGF0ZW1lbnQiOlt7IlJlc291cmNlIjoiaHR0cHM6Ly9jZG4ubG9vbS5jb20vaW1hZ2VzL29yaWdpbmFscy84ODk1YWFkMWQ5YTA0NjI4YThmM2I3OGUzZDlmMGRlYy5qcGciLCJDb25kaXRpb24iOnsiRGF0ZUxlc3NUaGFuIjp7IkFXUzpFcG9jaFRpbWUiOjE2MzczNjc4NTl9fX1dfQ__&Signature=i6ZQVbT0xPbfDlDzab~sGUHe9ieT3nkrNRb768XusdaEfJboDWPwh937sXgVOMtc0~xC7JXdV4p8XhE6sxbHE9dYWzJLjit5vIsbQqHECz9CjYzrsSnxK3LZC8fNQCgJaDCVa~sMTJ5~ZdYvR1FJO2yhkH~wCpRBZSYvyRBL7dANZG4dxwt4x3eh~7j~HgNZ~g~ahYq80eYq7uzrodmu8ZVm7Xy~S13vkBGwIxY~HYo2dZgkYYAxkQnvVukvdVzv1gxQWNxP7jymyxD7QzCEQE4Kfb5ateJmlHQ10FOXPGEJZ4UMZjSWwglIWut~XeYXITp16kweD3ux1MssxQrgMw__&Key-Pair-Id=APKAJQIC5BGSW7XXK7FQ\"></center>"
      ]
    },
    {
      "cell_type": "markdown",
      "metadata": {
        "id": "AeRek04aYz4d"
      },
      "source": [
        "## Exercício 09 (c)\n",
        "<center><img  src=\"https://cdn.loom.com/images/originals/68b75a5d090344cf9d7a9ba6ede4ab97.jpg?Expires=1637367975&Policy=eyJTdGF0ZW1lbnQiOlt7IlJlc291cmNlIjoiaHR0cHM6Ly9jZG4ubG9vbS5jb20vaW1hZ2VzL29yaWdpbmFscy82OGI3NWE1ZDA5MDM0NGNmOWQ3YTliYTZlZGU0YWI5Ny5qcGciLCJDb25kaXRpb24iOnsiRGF0ZUxlc3NUaGFuIjp7IkFXUzpFcG9jaFRpbWUiOjE2MzczNjc5NzV9fX1dfQ__&Signature=uTUYmOkwgzT78sIJCPZBG5jSHG7NsLhxK1FUjEDFH7gexdgG9Gv19s9YvN4pxsXBPgdlHcdcU-xQq6SiNi5IDL1Q2vicCvAfWIr8uz4jmNbGflbRvouhplrMU9Dw5mAzMGGTiB8bpIKXPYnmetcOoFUWE9Wz42ELXwMPSQlPyzjrO7xRp83YxyDqEyVG2WplvzpzU5rmtzw01nLYFxAEWlEYlbVF8a4exhjDP6PyYogWJ9ycv4OR~b8OVKk2GGRA76KOqVVo-KaBYCDERnJkm-JfepBug3XqLTClUT~3AJ02mxJo5J-MYlrcROpr2e4xO223lozhn72qEo6DJt3f6A__&Key-Pair-Id=APKAJQIC5BGSW7XXK7FQ\"></center>"
      ]
    },
    {
      "cell_type": "markdown",
      "metadata": {
        "id": "xxJgW7yzY0Ah"
      },
      "source": [
        "## Exercício 10 (a)\n",
        "<center><img  src=\"https://cdn.loom.com/images/originals/f1b78911e1ae41b9b9a926284515ec37.jpg?Expires=1637368015&Policy=eyJTdGF0ZW1lbnQiOlt7IlJlc291cmNlIjoiaHR0cHM6Ly9jZG4ubG9vbS5jb20vaW1hZ2VzL29yaWdpbmFscy9mMWI3ODkxMWUxYWU0MWI5YjlhOTI2Mjg0NTE1ZWMzNy5qcGciLCJDb25kaXRpb24iOnsiRGF0ZUxlc3NUaGFuIjp7IkFXUzpFcG9jaFRpbWUiOjE2MzczNjgwMTV9fX1dfQ__&Signature=iL7zyQ81-LDM68i3N6JVLWoPeyzKARmyCO31XjIjjncZg2QbFHzjzzm3shUxcuQ5hUc2DzSBUsG1eizB6XbhBItxObEWUl18f-O35tz-erknThwxeeg78shy8-Oht2O8vwxpm1ykcdvnvjFjD2kWTzbUDJYUlIKGg-0M13pwu5vPrYyJkXJBHMc0T1jwezRyxkEPfFqkzsvvpHCr7RJkMikgRqa8Gd5GtqB22N8cru-aP~iLRFKGh~QAqnm6H~~KBmJFatC9qH9R0s5afx4dN3RXp9bquNgDoRhEkRiyqUl~2zR~kf5tbO4H-JhCp-mC-QaA8R6BlApZ1922uV81tg__&Key-Pair-Id=APKAJQIC5BGSW7XXK7FQ\"></center>"
      ]
    },
    {
      "cell_type": "code",
      "metadata": {
        "colab": {
          "base_uri": "https://localhost:8080/"
        },
        "id": "NVMBqfhaY4iP",
        "outputId": "51ef2326-6842-4e04-f240-64dcc5f115bc"
      },
      "source": [
        "a = 10\n",
        "b = 5\n",
        "c = a + b\n",
        "b = 20\n",
        "print(a,b,c)"
      ],
      "execution_count": null,
      "outputs": [
        {
          "output_type": "stream",
          "name": "stdout",
          "text": [
            "10 20 15\n"
          ]
        }
      ]
    },
    {
      "cell_type": "markdown",
      "metadata": {
        "id": "9B_hYPSWY0DY"
      },
      "source": [
        "## Exercício 11 (c)\n",
        "<center><img  src=\"https://cdn.loom.com/images/originals/f509f11afd014052bc7c711edb577a34.jpg?Expires=1637368215&Policy=eyJTdGF0ZW1lbnQiOlt7IlJlc291cmNlIjoiaHR0cHM6Ly9jZG4ubG9vbS5jb20vaW1hZ2VzL29yaWdpbmFscy9mNTA5ZjExYWZkMDE0MDUyYmM3YzcxMWVkYjU3N2EzNC5qcGciLCJDb25kaXRpb24iOnsiRGF0ZUxlc3NUaGFuIjp7IkFXUzpFcG9jaFRpbWUiOjE2MzczNjgyMTV9fX1dfQ__&Signature=iT6GDCxxUyVFxRFOC1ywovwkxumn3wYGRr6exT3u07PDkiMcYMhiSKPvkbA-J9E~LM9tW9mSplm~anjDT-nr1OkG~j2INk7oX4iqGoEZpEGkoGm8SH1iLHtfP4qVRnaQpJ2tBCcZzUNE8yPRffAxdaCj8Q~NvdbROrNHTa5Z~IzUd1vZN5IDDlG2BWZmdzRsjiM3oEA7zTx96j-j-UJBfGKqFvc2V6Z7v-O7AUQmbU0zFi02c5iFRqR2uz2-UpA0Vw4f9MWi2qv~K0STX0PjjtRS3HX1NStFtYRDd5Q1cMqGhqIRM2uEyKM91UfghMrE-7N2xs1YPQMVaBiFiaSntQ__&Key-Pair-Id=APKAJQIC5BGSW7XXK7FQ\"></center>"
      ]
    },
    {
      "cell_type": "code",
      "metadata": {
        "colab": {
          "base_uri": "https://localhost:8080/"
        },
        "id": "cDmoPiPMZhF3",
        "outputId": "bcd0eb25-2b87-44d3-e9fa-901a09da8eb6"
      },
      "source": [
        "print(\"Olá\" 'mundo')"
      ],
      "execution_count": null,
      "outputs": [
        {
          "output_type": "stream",
          "name": "stdout",
          "text": [
            "Olámundo\n"
          ]
        }
      ]
    },
    {
      "cell_type": "markdown",
      "metadata": {
        "id": "SreHi2RDY0GD"
      },
      "source": [
        "## Exercício 12 (b)\n",
        "<center><img  src=\"https://cdn.loom.com/images/originals/50dd3548a5544e88a3b68e560d47f99b.jpg?Expires=1637368259&Policy=eyJTdGF0ZW1lbnQiOlt7IlJlc291cmNlIjoiaHR0cHM6Ly9jZG4ubG9vbS5jb20vaW1hZ2VzL29yaWdpbmFscy81MGRkMzU0OGE1NTQ0ZTg4YTNiNjhlNTYwZDQ3Zjk5Yi5qcGciLCJDb25kaXRpb24iOnsiRGF0ZUxlc3NUaGFuIjp7IkFXUzpFcG9jaFRpbWUiOjE2MzczNjgyNTl9fX1dfQ__&Signature=O0Hkuf4mGubu6sTxQuKSTeprAWMytKoC7OJ-na3GKxLxPudzmDUsV5CrOl9F6Kl26E8qxu9Uhm04EJ3Y~~6-5crvw9aDSAbQuP8NhgM9UFzGPNbs-jVCFA~12i1Pj2Bgvm1Uy6fWnTVN-mkQXebD5fQhqpeoZp6ZtJdKshHG03Ox99FfL80NVIST8IRI9XIZ3SeiQFZ36YPDoz0M0TtlstHUVhtT1C3Bx8wLMktpYAjOCllTCcbghOKjraFrcCFzECTUBkix06g28AkR-HN1s-uYMk6pafZ1EIJZmw~2rcaMV8bx0PclqrmXDFCvQ6h8~F~9~YnTMdcSqw-75~Edgg__&Key-Pair-Id=APKAJQIC5BGSW7XXK7FQ\"></center>"
      ]
    },
    {
      "cell_type": "code",
      "metadata": {
        "colab": {
          "base_uri": "https://localhost:8080/"
        },
        "id": "C-DBI9YIZys3",
        "outputId": "57bc619b-14a5-4593-a37e-7be4e9cbdc57"
      },
      "source": [
        "x = 2\n",
        "2 == x"
      ],
      "execution_count": null,
      "outputs": [
        {
          "output_type": "execute_result",
          "data": {
            "text/plain": [
              "True"
            ]
          },
          "metadata": {},
          "execution_count": 13
        }
      ]
    },
    {
      "cell_type": "markdown",
      "metadata": {
        "id": "80r-S72yY0Ig"
      },
      "source": [
        "## Exercício 13 (c, d, f, h)\n",
        "<center><img  src=\"https://cdn.loom.com/images/originals/42b74825f0ae43ef83692dd703ea5739.jpg?Expires=1637368338&Policy=eyJTdGF0ZW1lbnQiOlt7IlJlc291cmNlIjoiaHR0cHM6Ly9jZG4ubG9vbS5jb20vaW1hZ2VzL29yaWdpbmFscy80MmI3NDgyNWYwYWU0M2VmODM2OTJkZDcwM2VhNTczOS5qcGciLCJDb25kaXRpb24iOnsiRGF0ZUxlc3NUaGFuIjp7IkFXUzpFcG9jaFRpbWUiOjE2MzczNjgzMzh9fX1dfQ__&Signature=jbYPccORLGkZyzvbAVkLysQEw6V~Kzm8Fvoe0~RA5kDYaRNbXeKUtWs7SZVVOluP7V3IXr6yUp48O3nwO74HzorAK4m5tSZnrUpisfyRmZXPm4VMNh2ZzGOOShIDihoLX9CaVObbvZGQcnwsjkuXAjTJ9Yoryke9mwS~0ICqJB-5hzti4qujPGkLnnZ5rk~NxqN6W6IGO0cqv77dxa1XM7ZXRE1Z09U5Usp8qfxW682SMPI26XZjk3WWEEEfgHPycEU-4GZfu-~E8WR5PyvzRukOQ-NcTrT6O-keeWHhzVEmdyxyaZJiH93aBtgL78SfTZQHS8CFGINwSHs2mbqJCA__&Key-Pair-Id=APKAJQIC5BGSW7XXK7FQ\"></center>"
      ]
    },
    {
      "cell_type": "markdown",
      "metadata": {
        "id": "Nmzssn7UY0LC"
      },
      "source": [
        "## Exercício 14 (b)\n",
        "<center><img  src=\"https://cdn.loom.com/images/originals/6c82bde8e4cd4e6fab0e617cd2dc9a11.jpg?Expires=1637368365&Policy=eyJTdGF0ZW1lbnQiOlt7IlJlc291cmNlIjoiaHR0cHM6Ly9jZG4ubG9vbS5jb20vaW1hZ2VzL29yaWdpbmFscy82YzgyYmRlOGU0Y2Q0ZTZmYWIwZTYxN2NkMmRjOWExMS5qcGciLCJDb25kaXRpb24iOnsiRGF0ZUxlc3NUaGFuIjp7IkFXUzpFcG9jaFRpbWUiOjE2MzczNjgzNjV9fX1dfQ__&Signature=dv-kRMtVc-VgbtuVrobndzlAJJU9~jpLzfOqmvAUIExcaIhWofpWDonPzPFaMLyNcuj5T1uXeokwG7ji8I2xcsYpfpiMCsTzSngd6FZfUH1Dh9BOZr3nDFCk7pLArYrC5ksvYVF6AZlGaKzggYcQpdnKSNEm4KILSuczpmp0T6qOi8L6cOTBPIG55gE5U03fL0Js7mj-riB9nTcnWlUfkdkugocRO-eQAkffidz4wcYGM4nJObYAmpMe2ulTDoXKdr1ycbcLSHzEzURSR4Zzu3lkR3zFt4xZ0qZcEqVtPH0oeb6xkfWbrTOkR~bnFr-H6n8Bkw~DuIqp7wCimsUSbA__&Key-Pair-Id=APKAJQIC5BGSW7XXK7FQ\"></center>"
      ]
    },
    {
      "cell_type": "code",
      "metadata": {
        "colab": {
          "base_uri": "https://localhost:8080/"
        },
        "id": "5lJyNSH9aTB3",
        "outputId": "c19204bb-a031-4cbd-c9f9-5bd2d915fbde"
      },
      "source": [
        "x = 5\n",
        "y = 3\n",
        "x > y"
      ],
      "execution_count": null,
      "outputs": [
        {
          "output_type": "execute_result",
          "data": {
            "text/plain": [
              "True"
            ]
          },
          "metadata": {},
          "execution_count": 14
        }
      ]
    },
    {
      "cell_type": "markdown",
      "metadata": {
        "id": "Xkby5zaqY0Np"
      },
      "source": [
        "## Exercício 15 (e)\n",
        "<center><img  src=\"https://cdn.loom.com/images/originals/686c5ddd01b040e4bcd9bdcc00f429bc.jpg?Expires=1637368505&Policy=eyJTdGF0ZW1lbnQiOlt7IlJlc291cmNlIjoiaHR0cHM6Ly9jZG4ubG9vbS5jb20vaW1hZ2VzL29yaWdpbmFscy82ODZjNWRkZDAxYjA0MGU0YmNkOWJkY2MwMGY0MjliYy5qcGciLCJDb25kaXRpb24iOnsiRGF0ZUxlc3NUaGFuIjp7IkFXUzpFcG9jaFRpbWUiOjE2MzczNjg1MDV9fX1dfQ__&Signature=opHw4hY7qnRrfmK8DUa5og35rD6RlUIST2yKjeBKI99IIamtTiTqHu5niE6dqBuLbrBkqKqB0Vp613Re8nZluLu670GAc-Gs0ltO~Ikyy9GNQya~OsvTvWhe5c3JDv28Vy-ZJergm2wZBrLHdEG1JzNNEIm05yAXWD-Qay9XNdbSuS~qY0c8VcfIxTU5nTga0PpsANaqcl936QAANJEpJxGVGYhZrEUwON2XBHQ9zvTlt8ina41CQ4eM43wqsUokbfy57zhzM6k-CExGOpMAhru~xSJEWzQIoSrxDMtIG0f1R8I2U-DWGi9TqOh3OqmUKtyP0ZuMqBMK4ip4tRSTmw__&Key-Pair-Id=APKAJQIC5BGSW7XXK7FQ\"></center>"
      ]
    },
    {
      "cell_type": "code",
      "metadata": {
        "colab": {
          "base_uri": "https://localhost:8080/"
        },
        "id": "SuFkOENVacFe",
        "outputId": "7c871743-3437-46b4-d38a-611005a83722"
      },
      "source": [
        "x = 5\n",
        "y = 3\n",
        "z = 7\n",
        "x > y and x < z\n",
        "# True    True"
      ],
      "execution_count": null,
      "outputs": [
        {
          "output_type": "execute_result",
          "data": {
            "text/plain": [
              "True"
            ]
          },
          "metadata": {},
          "execution_count": 15
        }
      ]
    },
    {
      "cell_type": "markdown",
      "metadata": {
        "id": "bi0oVuU1Y0QW"
      },
      "source": [
        "## Exercício 16 (a)\n",
        "<center><img  src=\"https://cdn.loom.com/images/originals/3ebd4831a2bd416ba7fc8b1cf3d7eeb8.jpg?Expires=1637368736&Policy=eyJTdGF0ZW1lbnQiOlt7IlJlc291cmNlIjoiaHR0cHM6Ly9jZG4ubG9vbS5jb20vaW1hZ2VzL29yaWdpbmFscy8zZWJkNDgzMWEyYmQ0MTZiYTdmYzhiMWNmM2Q3ZWViOC5qcGciLCJDb25kaXRpb24iOnsiRGF0ZUxlc3NUaGFuIjp7IkFXUzpFcG9jaFRpbWUiOjE2MzczNjg3MzZ9fX1dfQ__&Signature=EkHrMMZ0u45kHf11yTFdbWbRel0K4803LOrEf-yIykhOnf2dyLJS9C34lD2tbsugsqlUePR00c6Va6DDLAe1k-QHhcS3d06VEA-T~LLSwA0LuLqn-Dqspxgm0-opVBg6qhWGcdVFCUWa6perkfpjdBBct8tg8S0IZH3b31GDjdw3NvTOO8VWg4TAcAuDYoFddCMeqlclseHfwYzHrse2gX0C1pFCLQvQwgNHafvZUmFjcp-snIdynBjNQahzzMGStKX5jJD8AfI4ZBUSDIRmY-o6jZ~Z~sdvqUZlp2XxbYItZEnrIKLbcrWSKS8OGuFEoE0rp9j-8ecfNpTSuvjVNQ__&Key-Pair-Id=APKAJQIC5BGSW7XXK7FQ\"></center>"
      ]
    },
    {
      "cell_type": "code",
      "metadata": {
        "colab": {
          "base_uri": "https://localhost:8080/"
        },
        "id": "UWYOaXrEa7Sn",
        "outputId": "82a162fc-dc0d-4cbd-c6a2-07d991805c6a"
      },
      "source": [
        "idade = 15\n",
        "maior_idade = 18\n",
        "pode_dirigir = idade > maior_idade\n",
        "#                   False\n",
        "print(pode_dirigir)"
      ],
      "execution_count": null,
      "outputs": [
        {
          "output_type": "stream",
          "name": "stdout",
          "text": [
            "False\n"
          ]
        }
      ]
    },
    {
      "cell_type": "markdown",
      "metadata": {
        "id": "P7k3ihBdY0TL"
      },
      "source": [
        "## Exercício 17 (c)\n",
        "<center><img  src=\"https://cdn.loom.com/images/originals/29fdcddaa6ef436098cc9e6f167351d2.jpg?Expires=1637368785&Policy=eyJTdGF0ZW1lbnQiOlt7IlJlc291cmNlIjoiaHR0cHM6Ly9jZG4ubG9vbS5jb20vaW1hZ2VzL29yaWdpbmFscy8yOWZkY2RkYWE2ZWY0MzYwOThjYzllNmYxNjczNTFkMi5qcGciLCJDb25kaXRpb24iOnsiRGF0ZUxlc3NUaGFuIjp7IkFXUzpFcG9jaFRpbWUiOjE2MzczNjg3ODV9fX1dfQ__&Signature=obYhg-5ODuy06wyhDbKL5yQLrAv8uVmtUIJ5CZjSKuxxWlwqe2N8gfNp-2tpzTmBDSKvsYgOl0wW1we-wRX42HMRHmObOXD6xE6exdw9Wj4xQUa5Wwn7G92xTJShQLvd9Nez7rqjbnvFUbOjy2xEG65CMbURY~bSiXZZ9VAN~sUmv~5Qt1SviuVQ2h-Midq2Mx1n1EPzhdCWpUtBOqaOjwTxeL2573k7j5xuu5CRgEJ7BnsExBXzSH3oTNED8Gueouqo9mdg3Y47KuIJ1ZDQrsPR43sCRYPlDfp3wGW2odckM4LGjrdh8K0YAx0ccqEZctVN7LN7jdcMbr2edDS3SA__&Key-Pair-Id=APKAJQIC5BGSW7XXK7FQ\"></center>"
      ]
    },
    {
      "cell_type": "code",
      "metadata": {
        "colab": {
          "base_uri": "https://localhost:8080/"
        },
        "id": "bwG0g0KobGDu",
        "outputId": "a2d205ab-b80e-4bc3-d8ea-a94efe0e8fc5"
      },
      "source": [
        "x = 10\n",
        "y = 15\n",
        "z = 25\n",
        "print(x == z - y and z != y - x or not y != z - x)\n",
        "##       True     and   False    or not   False\n",
        "##       True     and   False    or    True\n",
        "##               False           or    True\n",
        "##                              True"
      ],
      "execution_count": null,
      "outputs": [
        {
          "output_type": "stream",
          "name": "stdout",
          "text": [
            "True\n"
          ]
        }
      ]
    },
    {
      "cell_type": "markdown",
      "metadata": {
        "id": "liqW7oGhY0Vw"
      },
      "source": [
        "## Exercício 18 (c)\n",
        "<center><img  src=\"https://cdn.loom.com/images/originals/b6e9a10bdcd443f09b34db1b8d921758.jpg?Expires=1637368841&Policy=eyJTdGF0ZW1lbnQiOlt7IlJlc291cmNlIjoiaHR0cHM6Ly9jZG4ubG9vbS5jb20vaW1hZ2VzL29yaWdpbmFscy9iNmU5YTEwYmRjZDQ0M2YwOWIzNGRiMWI4ZDkyMTc1OC5qcGciLCJDb25kaXRpb24iOnsiRGF0ZUxlc3NUaGFuIjp7IkFXUzpFcG9jaFRpbWUiOjE2MzczNjg4NDF9fX1dfQ__&Signature=fYWQPqRlzEHohCnUWEnZd-DXbAfawK7AKOONAg5LMSdE~DG6TOCfhDA3PjYsLS7rbtdTG~FLalpG-ltkd5sGV5NP7FB2baIUUsehnt6jWeJmzc3faePRs98BV2g7C9PtZUcHfXCF42zo90VqNuPlumn8TvwmIhCESX2x3FJwU6je1l5kqXvbdPHqjHkScBJdvU5qUYxyR~cO9XKb85PUSEGv86GqFwHLWUj09mHL-gNDAZD97-KChvBQQ4dAi-D3s09vkCJ2eo3CBzmkn4Byx9CxjDD-Xb7Z0MdqFziqDwLM5WMNLvuHORaj6ft5~uT0iPkGGpao4Wk2jfWDT4x-ZA__&Key-Pair-Id=APKAJQIC5BGSW7XXK7FQ\"></center>\n",
        "\n",
        "questão igual a anterior.\n"
      ]
    },
    {
      "cell_type": "markdown",
      "metadata": {
        "id": "ZQV7-PNideV_"
      },
      "source": [
        "## Exercício 19 (a, b, c)\n",
        "<center><img  src=\"https://cdn.loom.com/images/originals/9ac6ead0589f46f5be28209fba7cef6d.jpg?Expires=1637368912&Policy=eyJTdGF0ZW1lbnQiOlt7IlJlc291cmNlIjoiaHR0cHM6Ly9jZG4ubG9vbS5jb20vaW1hZ2VzL29yaWdpbmFscy85YWM2ZWFkMDU4OWY0NmY1YmUyODIwOWZiYTdjZWY2ZC5qcGciLCJDb25kaXRpb24iOnsiRGF0ZUxlc3NUaGFuIjp7IkFXUzpFcG9jaFRpbWUiOjE2MzczNjg5MTJ9fX1dfQ__&Signature=O6KM6Wc9J6FZ0YI1tNk55D0QRfZT-rWsC5ZisqHcVtI1cZwiahPIQumo1ZOU7SeF8CT6CfcbEuh7d2X4ptAh8GQtlUVfQHS~47eeynDiJaaJ6aXX71RpJpi6pkUzUTH6gzaVctt8Jo9dkE21QLOs0guoNweWrzUeNuJXdpShc85hOErcwQHbNzUp9biW1idYCXqTDn1JeAmMlAY8cxv7kaOC-sPg4wJsfC~Y-psTpU2KVJmRFd98cwta8TEpOMMh9PC~Ksqeqb0bYb7O9kVbu0Sfest1rHSymV~p0iB-~RYLGDR99ZcgPxQzWJKifgeuwP2eIKeKFoiEIBJvB0cYhQ__&Key-Pair-Id=APKAJQIC5BGSW7XXK7FQ\"></center>"
      ]
    },
    {
      "cell_type": "code",
      "metadata": {
        "colab": {
          "base_uri": "https://localhost:8080/"
        },
        "id": "qMH-HBridhFX",
        "outputId": "43323218-6f50-487a-dc53-2ffc58678a6a"
      },
      "source": [
        "x = 10\n",
        "y = 20\n",
        "z = 30\n",
        "print(not y < 10 or not z == 10)\n",
        "#     not  False or not   False\n",
        "#          True  or True\n",
        "#               True\n",
        "print(x <= 30 and y >= 5)\n",
        "#       True  and   True\n",
        "#            True\n",
        "print(x >= 10 or y != z - x)\n",
        "#      True   or   False\n",
        "#            True\n",
        "print(not y > 10 or not z > 10)\n",
        "#     not True   or not True\n",
        "#         False  or False\n",
        "#              False"
      ],
      "execution_count": null,
      "outputs": [
        {
          "output_type": "stream",
          "name": "stdout",
          "text": [
            "True\n",
            "True\n",
            "True\n",
            "False\n"
          ]
        }
      ]
    },
    {
      "cell_type": "markdown",
      "metadata": {
        "id": "vZFzBwIRedmv"
      },
      "source": [
        "## Exercício 20 (c)\n",
        "<center><img  src=\"https://cdn.loom.com/images/originals/c677dbf3a7274e379da851190da119d6.jpg?Expires=1637368961&Policy=eyJTdGF0ZW1lbnQiOlt7IlJlc291cmNlIjoiaHR0cHM6Ly9jZG4ubG9vbS5jb20vaW1hZ2VzL29yaWdpbmFscy9jNjc3ZGJmM2E3Mjc0ZTM3OWRhODUxMTkwZGExMTlkNi5qcGciLCJDb25kaXRpb24iOnsiRGF0ZUxlc3NUaGFuIjp7IkFXUzpFcG9jaFRpbWUiOjE2MzczNjg5NjF9fX1dfQ__&Signature=LdOH~67xKaX0jZ6cAGMYQx2oPc5FXZFF0smXJZFt3pBMGb12AddpUF~YW48g9oszcCsQpElKIXF3XCPD59MGaCeI7BPxs1LOD59nzhVkHDPKKFtWHLJS1iLKSS79UJLrrvzDsmfiIj3kIOVFGq6bgYxA8SOhLwv6gR7naJHl2A~IldheVCuo2flANlulqvZMTeX7wtNVq5UYIsG1Ca7A8c7F0dxoAfRBakLfGHuTqMTPyut5mrZkVXaCjneT3501xJENMmac8PeKrf~i5T~fkcP6cd~mCcXRvtCkIhrYZ~V3Ik6j625ggOVZ4eFEWWtI3cMYlZBvJlhnnzwGgn9pXQ__&Key-Pair-Id=APKAJQIC5BGSW7XXK7FQ\"></center>"
      ]
    },
    {
      "cell_type": "code",
      "metadata": {
        "colab": {
          "base_uri": "https://localhost:8080/"
        },
        "id": "2d0JSJ8deZmH",
        "outputId": "4620015e-18dc-49ef-b6f4-39c1672b033b"
      },
      "source": [
        "x = 10\n",
        "print(x == 20)\n",
        "print(not(x == 10))\n",
        "#     not True\n",
        "#      False\n",
        "print(x != 20)\n",
        "print(x != 10)"
      ],
      "execution_count": null,
      "outputs": [
        {
          "output_type": "stream",
          "name": "stdout",
          "text": [
            "False\n",
            "False\n",
            "True\n",
            "False\n"
          ]
        }
      ]
    },
    {
      "cell_type": "markdown",
      "metadata": {
        "id": "sBLI9eUYgAnf"
      },
      "source": [
        "## Exercício 21 (a)\n",
        "<center><img  src=\"https://cdn.loom.com/images/originals/2bd7559707b0473e91403a4cb5310339.jpg?Expires=1637369017&Policy=eyJTdGF0ZW1lbnQiOlt7IlJlc291cmNlIjoiaHR0cHM6Ly9jZG4ubG9vbS5jb20vaW1hZ2VzL29yaWdpbmFscy8yYmQ3NTU5NzA3YjA0NzNlOTE0MDNhNGNiNTMxMDMzOS5qcGciLCJDb25kaXRpb24iOnsiRGF0ZUxlc3NUaGFuIjp7IkFXUzpFcG9jaFRpbWUiOjE2MzczNjkwMTd9fX1dfQ__&Signature=bV6ZkMyBwGi~AK4xabayu8xM8wOFpPm2hok9fj0Dhuum-PGC0VBxz8phzYJjMFr8oYz4fpHeJ9XE~~1EKMb~1gmywGF4PAppUYtb~29cxnAwECFIfchhC0zSzy-BKVhwcXq~-R6bJ8ksnep-PnZ-gJQEO6Cn1AOs50-iajhed4b-kjfsVJ2mcaKKmxhOBYS7r4B9Kxmq-haY1JEF5P0yOGmR9ie8JXDkkbbIdFdoTcTzBXZ0Tbw~AGuNz384pBJqk9Mm3hM8LTVbeCNjtd0FqPcWopb3QSS8l1tFbB454wvihAqTE9D6-XdvdVT2GsL~CuJwr2E-0c5j8kq1gG~OgA__&Key-Pair-Id=APKAJQIC5BGSW7XXK7FQ\"></center>\n",
        "\n",
        "`x != y` retorna False para `x = y`, caso contrário True\n",
        "\n",
        "a) qualquer valor de x diferente de y resulta em True, se `x = y` então False.\n",
        "\n",
        "b) retorna True para qualquer valor de x e y.\n",
        "\n",
        "c) se `x = y` retorna False, caso contrário True.\n",
        "\n",
        "d) retorna False para qualquer valor de x e y.\n",
        "\n"
      ]
    },
    {
      "cell_type": "code",
      "metadata": {
        "id": "Noufu97Dp6TY"
      },
      "source": [
        ""
      ],
      "execution_count": null,
      "outputs": []
    }
  ]
}