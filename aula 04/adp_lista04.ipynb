{
  "nbformat": 4,
  "nbformat_minor": 0,
  "metadata": {
    "colab": {
      "name": "adp_lista04.ipynb",
      "provenance": [],
      "toc_visible": true,
      "authorship_tag": "ABX9TyOT7oGiRE4TDSn3VE6wVo+C",
      "include_colab_link": true
    },
    "kernelspec": {
      "name": "python3",
      "display_name": "Python 3"
    },
    "language_info": {
      "name": "python"
    }
  },
  "cells": [
    {
      "cell_type": "markdown",
      "metadata": {
        "id": "view-in-github",
        "colab_type": "text"
      },
      "source": [
        "<a href=\"https://colab.research.google.com/github/douglascdsantos/unesp_analise_de_dados_com_python/blob/main/aula%2004/adp_lista04.ipynb\" target=\"_parent\"><img src=\"https://colab.research.google.com/assets/colab-badge.svg\" alt=\"Open In Colab\"/></a>"
      ]
    },
    {
      "cell_type": "markdown",
      "metadata": {
        "id": "S4bB3M0Fw-8o"
      },
      "source": [
        "# Análise de dados com Python\n",
        "Discente: Douglas Camargo dos Santos"
      ]
    },
    {
      "cell_type": "markdown",
      "metadata": {
        "id": "vBKu_2hkwoiA"
      },
      "source": [
        "#Lista de Exercícios 04 - Funções"
      ]
    },
    {
      "cell_type": "markdown",
      "metadata": {
        "id": "LL83pwVIekeL"
      },
      "source": [
        "## Exercício 01\n",
        "<center><img width=\"70%\" src=\"https://cdn.loom.com/images/originals/6592776330174c70b96a48c7ea10ce45.jpg?Expires=1638354919&Policy=eyJTdGF0ZW1lbnQiOlt7IlJlc291cmNlIjoiaHR0cHM6Ly9jZG4ubG9vbS5jb20vaW1hZ2VzL29yaWdpbmFscy82NTkyNzc2MzMwMTc0YzcwYjk2YTQ4YzdlYTEwY2U0NS5qcGciLCJDb25kaXRpb24iOnsiRGF0ZUxlc3NUaGFuIjp7IkFXUzpFcG9jaFRpbWUiOjE2MzgzNTQ5MTl9fX1dfQ__&Signature=LWBPb06BeC182i9vr8qRw-yLghvcddmaR9-7xVEL2aTskCkm2YpnEMUpCUPRPi6EUSTaad2JC97O5JPmtjgvPeJ0n59AoRX8f2GHw0KA4b7QAyLK~7RJvNKm8NNqg2le1cC10DzRsGf3Hvmpd4KqzP0-r~dz5waMov32By0rwOBYWitkNk139p6NCffhJOdG5o7mFyF1YnD~DrcMXCtOqx6ySxea0gSkFDzw8C4x3eZf-8qKprk45KRTIWVOgeLX6Mvj7zUMOaOBsqzlHiZsMkNeC7LXQhDqjv~USXBwEweuigaeGZVhfZmT5sTdKGti6Vv8VgevSyT4xkCQqsO7aw__&Key-Pair-Id=APKAJQIC5BGSW7XXK7FQ\"></center>"
      ]
    },
    {
      "cell_type": "code",
      "metadata": {
        "id": "PJaOhBydeTfq",
        "colab": {
          "base_uri": "https://localhost:8080/"
        },
        "outputId": "b68733f2-cf90-4b35-e922-097254ea52cd"
      },
      "source": [
        "def calc_fatorial (num):\n",
        "  produto = 1\n",
        "  for numero in range(num):\n",
        "    produto = produto * (numero + 1)\n",
        "  return produto\n",
        "\n",
        "def calc_c (k,n):\n",
        "  while k > n:\n",
        "    print(f'\\nVocê inseriu de maneira incorrenta, pois {k} > {n}, tente novamente:')\n",
        "    k = int(input('\\tInsira k tal que k <= n: '))\n",
        "    n = int(input('\\tInsira n tal que k <= n: '))\n",
        "  c = calc_fatorial(n) / (calc_fatorial(k) * calc_fatorial(n - k))\n",
        "  return c\n",
        "\n",
        "print('Insira k e n como números inteiros, tal que k <= n:\\n')\n",
        "k = int(input('\\tValor de k: '))\n",
        "n = int(input('\\tValor de n: '))\n",
        "\n",
        "print(f'\\nA combinação simples de n elementos distintos tomados k a k é de: {calc_c(k,n)}')"
      ],
      "execution_count": null,
      "outputs": [
        {
          "output_type": "stream",
          "name": "stdout",
          "text": [
            "Insira k e n como números inteiros, tal que k <= n:\n",
            "\n",
            "\tValor de k: 5\n",
            "\tValor de n: 9\n",
            "\n",
            "A combinação simples de n elementos distintos tomados k a k é de: 126.0\n"
          ]
        }
      ]
    },
    {
      "cell_type": "markdown",
      "metadata": {
        "id": "T1tk_t3yfXte"
      },
      "source": [
        "## Exercício 02\n",
        "<center><img width=\"70%\" src=\"https://cdn.loom.com/images/originals/2780989e9de641dca1050f2fd868bdf1.jpg?Expires=1638354942&Policy=eyJTdGF0ZW1lbnQiOlt7IlJlc291cmNlIjoiaHR0cHM6Ly9jZG4ubG9vbS5jb20vaW1hZ2VzL29yaWdpbmFscy8yNzgwOTg5ZTlkZTY0MWRjYTEwNTBmMmZkODY4YmRmMS5qcGciLCJDb25kaXRpb24iOnsiRGF0ZUxlc3NUaGFuIjp7IkFXUzpFcG9jaFRpbWUiOjE2MzgzNTQ5NDJ9fX1dfQ__&Signature=FingmJ1MylmkgrL~gj6yXxgKXCkUH19-dc4KLloAKwuA4KoPUd9fmbF9xqwdOPRD-k7yallNdPaxthymhx8FGRh~oyM-YCiW9XJoN-~5ke28GfWtJHAMbt95aghEM7TR-kN8rsKwfEQidgkR3TcRA0ODRBmR9QVcAgkXW8mjRGGkEHEEqdyXkzZqHIiGunl4UlCKH0dc2Qsyxhph~ykvpH-tSrsH~h3oY9rfBHg4UJ4fpDFPuMCKLe3UJx8AKf0mlCWum7njfLeD-bvR1owf37ObZZNQ1RESDf0WsFbOBeccMJDc~j3Lsp8JgypLmcWWPbcdHc88V0zdadslHv~fNA__&Key-Pair-Id=APKAJQIC5BGSW7XXK7FQ\"></center>"
      ]
    },
    {
      "cell_type": "code",
      "metadata": {
        "colab": {
          "base_uri": "https://localhost:8080/"
        },
        "id": "XabuD9aOcMO6",
        "outputId": "0f2ec9c2-7b61-4176-a484-6593f05fdeff"
      },
      "source": [
        "import random\n",
        "# preenchendo a lista\n",
        "lista_entrada = sorted([random.randint(-10,10) for i in range(10)])\n",
        "print('A lista de teste:\\n\\t',lista_entrada)\n",
        "# função que separa os elementos\n",
        "def selecao_lista (lista,sinal = 'positivos'):\n",
        "  if sinal == 'positivos':\n",
        "    lista_retorno = [elemento for elemento in lista if elemento >= 0]\n",
        "  elif sinal == 'negativos':\n",
        "    lista_retorno = [elemento for elemento in lista if elemento < 0]\n",
        "  else:\n",
        "    print('você passou uma parâmetro de maneira errada.')\n",
        "  return lista_retorno\n",
        "\n",
        "print('\\nSem passar o segundo argumento, temos\\n\\t',selecao_lista(lista_entrada))\n",
        "print('\\nPassando o segundo argumento como \"negativos\", temos\\n\\t',selecao_lista(lista_entrada,'negativos'))\n",
        "print('\\nPassando o segundo argumento como \"positivos\", temos\\n\\t',selecao_lista(lista_entrada,'positivos'))\n"
      ],
      "execution_count": 2,
      "outputs": [
        {
          "output_type": "stream",
          "name": "stdout",
          "text": [
            "A lista de teste:\n",
            "\t [-10, -9, -7, -4, -4, 1, 5, 6, 10, 10]\n",
            "\n",
            "Sem passar o segundo argumento, temos\n",
            "\t [1, 5, 6, 10, 10]\n",
            "\n",
            "Passando o segundo argumento como \"negativos\", temos\n",
            "\t [-10, -9, -7, -4, -4]\n",
            "\n",
            "Passando o segundo argumento como \"positivos\", temos\n",
            "\t [1, 5, 6, 10, 10]\n"
          ]
        }
      ]
    },
    {
      "cell_type": "markdown",
      "metadata": {
        "id": "pLGL9bOanKFa"
      },
      "source": [
        "## Exercício 03\n",
        "<center><img width=\"70%\" src=\"https://cdn.loom.com/images/originals/12dd3e6091a644fb97e5447a8e06f4e7.jpg?Expires=1638354968&Policy=eyJTdGF0ZW1lbnQiOlt7IlJlc291cmNlIjoiaHR0cHM6Ly9jZG4ubG9vbS5jb20vaW1hZ2VzL29yaWdpbmFscy8xMmRkM2U2MDkxYTY0NGZiOTdlNTQ0N2E4ZTA2ZjRlNy5qcGciLCJDb25kaXRpb24iOnsiRGF0ZUxlc3NUaGFuIjp7IkFXUzpFcG9jaFRpbWUiOjE2MzgzNTQ5Njh9fX1dfQ__&Signature=EERDMChJ7gaJlQMFuywBV781GqbAB2ayFHXmXldQXkkcEevPN8gobfSJ2VLugtd2HDImCScU~wdh0-PurjjTrEuF1vGgBx-dL~4Ji954ppv3kfdGjujtsrxGOCGTrlXZ3jsyAjEHbyW7~0udXzzKQXAv2ULV0U1jBvXKk9Pcyq8XTIuG4wUYBZRCkI5LfhdNpbBkty1UxNM0kE~sfW5iElY44lCs2mrmYgUQ5R2NrujyUKyRLbjBTc90YV7iBrM8PiDk~2PL715zsE1RpGaM5DUFMEr0QNdCDQh0hsVEWIaq-HQnXinMf45EAxN-hndkKVTNlMF1t35V8u-YP~Sx4Q__&Key-Pair-Id=APKAJQIC5BGSW7XXK7FQ\"></center>"
      ]
    },
    {
      "cell_type": "code",
      "metadata": {
        "id": "UrI3d1XigeVC",
        "outputId": "621adeef-eb98-4d17-ea84-0eb1edad37c1",
        "colab": {
          "base_uri": "https://localhost:8080/"
        }
      },
      "source": [
        "import random\n",
        "import statistics\n",
        "from scipy.stats import gmean\n",
        "# gerando a lista de teste\n",
        "lista_entrada = sorted([random.randint(0,100) for i in range(10)])\n",
        "print('A lista de teste:\\n\\t',lista_entrada)\n",
        "# definindo a função avaliando o tipo para determinar o que irá retornar\n",
        "def medias(lista, tipo='A'):\n",
        "  if tipo == 'A':\n",
        "    return statistics.mean(lista)\n",
        "  elif tipo == 'G':\n",
        "    return gmean(lista)\n",
        "  else:\n",
        "    return '### Você não forneceu corretamente qual tipo de média. ###'\n",
        "\n",
        "print(f'''Testes:\n",
        "      \\n\\tPassando o parametro \"A\": {medias(lista_entrada,'A'):.2f}\n",
        "      \\n\\tPassando o parametro \"G\": {medias(lista_entrada,'G'):.2f}\n",
        "      \\n\\tPassando o parametro de maneira errada \"z\": {medias(lista_entrada,'z')}\n",
        "      ''')"
      ],
      "execution_count": 26,
      "outputs": [
        {
          "output_type": "stream",
          "name": "stdout",
          "text": [
            "A lista de teste:\n",
            "\t [6, 11, 12, 13, 21, 25, 33, 59, 63, 81]\n",
            "Testes:\n",
            "      \n",
            "\tPassando o parametro \"A\": 32.40\n",
            "      \n",
            "\tPassando o parametro \"G\": 23.60\n",
            "      \n",
            "\tPassando o parametro de maneira errada \"z\": ### Você não forneceu corretamente qual tipo de média. ###\n",
            "      \n"
          ]
        }
      ]
    },
    {
      "cell_type": "markdown",
      "metadata": {
        "id": "dOX9xHC7pydk"
      },
      "source": [
        "## Exercício 04\n",
        "<center><img width=\"70%\" src=\"https://cdn.loom.com/images/originals/d43bc5b12c974f98b8f1ebda7b0291c8.jpg?Expires=1638354996&Policy=eyJTdGF0ZW1lbnQiOlt7IlJlc291cmNlIjoiaHR0cHM6Ly9jZG4ubG9vbS5jb20vaW1hZ2VzL29yaWdpbmFscy9kNDNiYzViMTJjOTc0Zjk4YjhmMWViZGE3YjAyOTFjOC5qcGciLCJDb25kaXRpb24iOnsiRGF0ZUxlc3NUaGFuIjp7IkFXUzpFcG9jaFRpbWUiOjE2MzgzNTQ5OTZ9fX1dfQ__&Signature=HX7t3bYtrjXGpFRUhTqrgNNzRgeUdvQEf9y0~3OSGXWrnLh-eBk8~97lHXh4w1T3TKvHNxCptArknGiKuNPCkx2imW1tmkKaTZ6-9yCs6XxekonwzRlqfXFxMrZ26dYMrttL9940~kLwLgzzzIl9oYi0Pb~RQg9BjHrNrSRKjLTdUQzfpbvQeeSOpaVmFzRpPwhJ9h4OZUwiEllPquTSUuoO90FUACCicdiKcBCG2ZHr9ArzKbXu2pKSzMerDibX8lLmDEWUL92RIgMOTMG6AWvg3UP0LQOtWlGoDzBvyxV9RpI9vH54~0VuTNAAoAFYdJ4uCyFQ5w-XLAspRkhzdQ__&Key-Pair-Id=APKAJQIC5BGSW7XXK7FQ\"></center>"
      ]
    },
    {
      "cell_type": "code",
      "metadata": {
        "id": "OQGQNhtfpWgU",
        "outputId": "bb47993a-7aa3-42aa-b559-2dc2c9a2541a",
        "colab": {
          "base_uri": "https://localhost:8080/"
        }
      },
      "source": [
        "import random\n",
        "# criando as listas de teste\n",
        "lista_a = sorted([random.randint(0,100) for i in range(10)])\n",
        "lista_b = sorted([random.randint(0,100) for i in range(10)])\n",
        "print(f'''- Lista A: {lista_a}\\n- Lista B: {lista_b}\\n''')\n",
        "# criando a função\n",
        "def interseccao (lista_a,lista_b,imprimir=False):\n",
        "  if imprimir == False:\n",
        "    return [elemento_a for elemento_a in lista_a for elemento_b in lista_b if elemento_a == elemento_b]\n",
        "  else:\n",
        "    print([elemento_a for elemento_a in lista_a for elemento_b in lista_b if elemento_a == elemento_b])\n",
        "\n",
        "print(f'''Teste:\n",
        "- Passando o parametro \"False\": {interseccao(lista_a,lista_b,False)}\n",
        "- Passando o parametro \"True\" e avaliando o return no print: {interseccao(lista_a,lista_b,True)}\n",
        "- Chamando a função e passando o \"True\" fora do print:''')\n",
        "\n",
        "interseccao(lista_a,lista_b,True)\n"
      ],
      "execution_count": 51,
      "outputs": [
        {
          "output_type": "stream",
          "name": "stdout",
          "text": [
            "- Lista A: [13, 17, 20, 38, 45, 68, 71, 75, 78, 100]\n",
            "- Lista B: [1, 10, 17, 26, 31, 34, 36, 78, 90, 91]\n",
            "\n",
            "[17, 78]\n",
            "Teste:\n",
            "- Passando o parametro \"False\": [17, 78]\n",
            "- Passando o parametro \"True\" e avaliando o return no print: None\n",
            "- Chamando a função e passando o \"True\" fora do print:\n",
            "[17, 78]\n"
          ]
        }
      ]
    },
    {
      "cell_type": "markdown",
      "metadata": {
        "id": "FrJYeyOT5XRi"
      },
      "source": [
        "# Dúvidas:\n",
        "- na questão 03 ao solicitar imprimir deve necessariamente ter um print ou retornar um string ?\n",
        "- na questão 04 para a função somente imprimir ela deve não ter um return ?"
      ]
    }
  ]
}