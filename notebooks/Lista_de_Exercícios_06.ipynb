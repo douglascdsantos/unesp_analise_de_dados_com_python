{
  "nbformat": 4,
  "nbformat_minor": 0,
  "metadata": {
    "colab": {
      "name": "Lista_de_Exercícios_06.ipynb",
      "provenance": [],
      "collapsed_sections": [],
      "include_colab_link": true
    },
    "kernelspec": {
      "name": "python3",
      "display_name": "Python 3"
    },
    "language_info": {
      "name": "python"
    }
  },
  "cells": [
    {
      "cell_type": "markdown",
      "metadata": {
        "id": "view-in-github",
        "colab_type": "text"
      },
      "source": [
        "<a href=\"https://colab.research.google.com/github/douglascdsantos/unesp_analise_de_dados_com_python/blob/main/notebooks/Lista_de_Exerc%C3%ADcios_06.ipynb\" target=\"_parent\"><img src=\"https://colab.research.google.com/assets/colab-badge.svg\" alt=\"Open In Colab\"/></a>"
      ]
    },
    {
      "cell_type": "markdown",
      "source": [
        "# Aula 06 - Atividade"
      ],
      "metadata": {
        "id": "jNHwTDRLI693"
      }
    },
    {
      "cell_type": "markdown",
      "source": [
        "Os arquivos JSON permitem uma estrutura hierárquica, que não é possível com os arquivos CSV. \n",
        "\n",
        "Utilize o código a seguir para ler os dados sobre covid da ourworldindata:"
      ],
      "metadata": {
        "id": "Eb62PniGI3x3"
      }
    },
    {
      "cell_type": "code",
      "source": [
        "import requests\n",
        "import json\n",
        "req = requests.get(\"https://covid.ourworldindata.org/data/owid-covid-data.json\")\n",
        "dados = json.loads(req.content)"
      ],
      "metadata": {
        "id": "qEJVQnnjJe7Z"
      },
      "execution_count": null,
      "outputs": []
    },
    {
      "cell_type": "markdown",
      "source": [
        "**Utilize a estrutura de dicionário** que está armazenada na variável `dados` e liste quais são os 10 países com o maior número de novas mortes por milhão de habitantes (*new_deaths_per_million*) no mês de novembro de 2021.\n",
        "\n",
        "Faça isso sem converter essa estrutura para outro formato, como um pandas `DataFrame`, pois este será tratado nas próximas aulas.\n",
        "\n",
        "Armazene o resultado em um arquivo texto:\n",
        "\n",
        "> BRA, x  \n",
        "> USA, y\n"
      ],
      "metadata": {
        "id": "R27Po-SbJiBQ"
      }
    },
    {
      "cell_type": "markdown",
      "source": [
        "O módulo `datetime` pode ajudar nesse processo. Ele possui métodos relacionados a data e hora.\n",
        "\n",
        "Por exemplo, o código a seguir gera uma sequência de datas, de 01/11/2021 a 30/11/2021."
      ],
      "metadata": {
        "id": "M2LD5lFXP6N2"
      }
    },
    {
      "cell_type": "code",
      "source": [
        "import datetime \n",
        "data_inicial = datetime.datetime.strptime(\"2021-11-1\", '%Y-%m-%d')\n",
        "data_final = datetime.datetime.strptime(\"2021-11-30\", '%Y-%m-%d')\n",
        "passo = datetime.timedelta(days=1)\n",
        "data_lista = []\n",
        "while data_inicial < data_final:\n",
        "  data_lista.append(str(data_inicial.date()))\n",
        "  data_inicial += passo"
      ],
      "metadata": {
        "id": "FExb7rGOqQdP"
      },
      "execution_count": null,
      "outputs": []
    },
    {
      "cell_type": "code",
      "source": [
        "# lista que irá receber a soma do mês de cada país da variável new_deaths_per_million\n",
        "lista_soma = []\n",
        "# for para percorrer todos os paises\n",
        "for pais in dados:\n",
        "  # variavel que terá a soma mensal do numero de new_deaths_per_million para cada país\n",
        "  soma_mes = 0\n",
        "  # for para percorrer todas as entradas de dia de cada país\n",
        "  for entrada in range(len(dados[str(pais)]['data'])):\n",
        "    # for para percorrer cada dia do mês 11 de 2021\n",
        "    for dia in data_lista:\n",
        "      # verificação para ver se o dia do pais percente ao mês 11 de 2021\n",
        "      if dados[str(pais)]['data'][entrada]['date'] == dia:\n",
        "        # verificação se existe a variável new_deaths_per_million \n",
        "        if 'new_deaths_per_million' in dados[str(pais)]['data'][entrada]:\n",
        "          soma_mes = soma_mes + dados[str(pais)]['data'][entrada]['new_deaths_per_million']\n",
        "  # adicionando o valor do mês\n",
        "  lista_soma.append(soma_mes)\n",
        "#criando um dicionario\n",
        "dic = dict(zip(list(dados.keys()),lista_soma))\n",
        "# criando um arquivo de texto e escrevendo os top 10 nele\n",
        "with open('texto.txt', 'w') as f:\n",
        "  # for para percorrer as 10 maiores chaves do dicionario\n",
        "  for pais in sorted(dic, key = dic.get, reverse=True)[:10]:\n",
        "    f.writelines(f'{pais}, {dic[pais]:.2f}\\n')"
      ],
      "metadata": {
        "id": "bxieGdj8eSb8"
      },
      "execution_count": null,
      "outputs": []
    }
  ]
}