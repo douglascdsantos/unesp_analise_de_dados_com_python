{
  "nbformat": 4,
  "nbformat_minor": 0,
  "metadata": {
    "colab": {
      "name": "ADP 2021 11 24 funções.ipynb",
      "provenance": [],
      "authorship_tag": "ABX9TyO9hGsdGKv/9wLl/at+Z+4O",
      "include_colab_link": true
    },
    "kernelspec": {
      "name": "python3",
      "display_name": "Python 3"
    },
    "language_info": {
      "name": "python"
    }
  },
  "cells": [
    {
      "cell_type": "markdown",
      "metadata": {
        "id": "view-in-github",
        "colab_type": "text"
      },
      "source": [
        "<a href=\"https://colab.research.google.com/github/douglascdsantos/unesp_analise_de_dados_com_python/blob/main/Atividade%202/ADP_2021_11_24_fun%C3%A7%C3%B5es.ipynb\" target=\"_parent\"><img src=\"https://colab.research.google.com/assets/colab-badge.svg\" alt=\"Open In Colab\"/></a>"
      ]
    },
    {
      "cell_type": "markdown",
      "metadata": {
        "id": "H4Ge4Ck2Woj7"
      },
      "source": [
        "- Metodo é o nome que se dá a função de uma determinada classe;\n",
        "- escopo de variável: variáveis criadas dentro de funções ela não pode ser utilizadas em outro lugar do código"
      ]
    },
    {
      "cell_type": "code",
      "metadata": {
        "id": "LmSJIdf9llI5"
      },
      "source": [
        "x = [14,5]"
      ],
      "execution_count": 5,
      "outputs": []
    },
    {
      "cell_type": "code",
      "metadata": {
        "colab": {
          "base_uri": "https://localhost:8080/",
          "height": 35
        },
        "id": "SyPvSM-almDV",
        "outputId": "31eddac7-25bd-4abb-e5f1-83b8570874da"
      },
      "source": [
        "hex(id(x))"
      ],
      "execution_count": 6,
      "outputs": [
        {
          "output_type": "execute_result",
          "data": {
            "application/vnd.google.colaboratory.intrinsic+json": {
              "type": "string"
            },
            "text/plain": [
              "'0x7f78282a8c80'"
            ]
          },
          "metadata": {},
          "execution_count": 6
        }
      ]
    },
    {
      "cell_type": "code",
      "metadata": {
        "colab": {
          "base_uri": "https://localhost:8080/",
          "height": 35
        },
        "id": "sV_L4BNel5Sl",
        "outputId": "eb75ae59-b0fb-4c82-b3d7-54f153c2ad63"
      },
      "source": [
        "hex(id(x[0]))"
      ],
      "execution_count": 7,
      "outputs": [
        {
          "output_type": "execute_result",
          "data": {
            "application/vnd.google.colaboratory.intrinsic+json": {
              "type": "string"
            },
            "text/plain": [
              "'0x5597e30d0ba0'"
            ]
          },
          "metadata": {},
          "execution_count": 7
        }
      ]
    },
    {
      "cell_type": "code",
      "metadata": {
        "colab": {
          "base_uri": "https://localhost:8080/",
          "height": 35
        },
        "id": "6MQTFeDNl6Ue",
        "outputId": "942d1b03-b457-454a-971a-60aa5107b11b"
      },
      "source": [
        "hex(id(x[1]))"
      ],
      "execution_count": 8,
      "outputs": [
        {
          "output_type": "execute_result",
          "data": {
            "application/vnd.google.colaboratory.intrinsic+json": {
              "type": "string"
            },
            "text/plain": [
              "'0x5597e30d0a80'"
            ]
          },
          "metadata": {},
          "execution_count": 8
        }
      ]
    },
    {
      "cell_type": "code",
      "metadata": {
        "colab": {
          "base_uri": "https://localhost:8080/"
        },
        "id": "TfDiDfpNl8DC",
        "outputId": "71786c32-41d9-4b88-ebf4-5a55a8f01e12"
      },
      "source": [
        "def f1(x):\n",
        "  x[0] = 1\n",
        "  return x\n",
        "print(x)\n",
        "print(hex(id(x)))\n",
        "f1(x)\n",
        "print(x)\n",
        "print(hex(id(x)))\n"
      ],
      "execution_count": 9,
      "outputs": [
        {
          "output_type": "stream",
          "name": "stdout",
          "text": [
            "[14, 5]\n",
            "0x7f78282a8c80\n",
            "[1, 5]\n",
            "0x7f78282a8c80\n"
          ]
        }
      ]
    },
    {
      "cell_type": "code",
      "metadata": {
        "id": "fUjAchlymZJL"
      },
      "source": [
        ""
      ],
      "execution_count": null,
      "outputs": []
    }
  ]
}