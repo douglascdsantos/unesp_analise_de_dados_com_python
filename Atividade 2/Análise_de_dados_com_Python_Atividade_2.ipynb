{
  "nbformat": 4,
  "nbformat_minor": 0,
  "metadata": {
    "colab": {
      "name": "Lista_de_Exercícios_02.ipynb",
      "provenance": [],
      "toc_visible": true,
      "include_colab_link": true
    },
    "kernelspec": {
      "display_name": "Python 3",
      "language": "python",
      "name": "python3"
    },
    "language_info": {
      "codemirror_mode": {
        "name": "ipython",
        "version": 3
      },
      "file_extension": ".py",
      "mimetype": "text/x-python",
      "name": "python",
      "nbconvert_exporter": "python",
      "pygments_lexer": "ipython3",
      "version": "3.8.8"
    }
  },
  "cells": [
    {
      "cell_type": "markdown",
      "metadata": {
        "id": "view-in-github",
        "colab_type": "text"
      },
      "source": [
        "<a href=\"https://colab.research.google.com/github/douglascdsantos/unesp_analise_de_dados_com_python/blob/main/Atividade%202/An%C3%A1lise_de_dados_com_Python_Atividade_2.ipynb\" target=\"_parent\"><img src=\"https://colab.research.google.com/assets/colab-badge.svg\" alt=\"Open In Colab\"/></a>"
      ]
    },
    {
      "cell_type": "markdown",
      "metadata": {
        "id": "OfJKrbUU4k6S"
      },
      "source": [
        "#Aula 03 - Estruturas de dados (listas, tuplas e dicionários), condicionais e de repetição\n",
        "Douglas Camargo dos Santos"
      ]
    },
    {
      "cell_type": "markdown",
      "metadata": {
        "id": "xJJMVdXZhVJO"
      },
      "source": [
        "## Exercício 01\n",
        "<center><img width=\"70%\" src=\"https://cdn.loom.com/images/originals/03021dce554c437c891dc06677229923.jpg?Expires=1637886557&Policy=eyJTdGF0ZW1lbnQiOlt7IlJlc291cmNlIjoiaHR0cHM6Ly9jZG4ubG9vbS5jb20vaW1hZ2VzL29yaWdpbmFscy8wMzAyMWRjZTU1NGM0MzdjODkxZGMwNjY3NzIyOTkyMy5qcGciLCJDb25kaXRpb24iOnsiRGF0ZUxlc3NUaGFuIjp7IkFXUzpFcG9jaFRpbWUiOjE2Mzc4ODY1NTd9fX1dfQ__&Signature=N4afx7NMfZdTYQqA7T5qHyuFtSA1VLwbZUIWbXnUDq3REFbZyqzOOQ6bEn005GjipLJG9IhKEBrQ11etlxRkP1fwMNYprmlCKrhulkSDu7OstWFy10esrL7ph~yzZxb7j84JQAlznqH6FArLcavlbfDigsFJb5GgwHK23teXv91mjk81NHnStD9gmUkBJ4MSaV1rWzW5V7QotOgfir1wefLMgrul89EdriIASi~dugeL~y7PA~UHyC87F0n9z6PZCg2nGrVz14IgGMxnyRYC-vrqteA7JTsIKhfu5ioLA4og75I07Dvs2KAsSCzq69aLCTRwyp09a3YpFpmhWK71ug__&Key-Pair-Id=APKAJQIC5BGSW7XXK7FQ\"></center>\n"
      ]
    },
    {
      "cell_type": "code",
      "metadata": {
        "colab": {
          "base_uri": "https://localhost:8080/"
        },
        "id": "DHX-xX03gkLl",
        "outputId": "18ff085d-1418-4dfe-981b-0a0fccabacd0"
      },
      "source": [
        "a = 1\n",
        "b = 0\n",
        "# laço para garantir que b seja maior que a\n",
        "while a > b:\n",
        "  # recebendo valores de a e b\n",
        "  a = int(input('Insira o limite inferior do intervalor (inteiro): '))\n",
        "  b = int(input('Insira o limite superior do intervalor (inteiro), diferente do anterior: '))\n",
        "  # caso feito de maneira errada notifica o usuário e reinicia\n",
        "  if a > b:\n",
        "    print('\\nO limite superior deve ser maior que o inferior, tente novamente.\\n')\n",
        "  else:\n",
        "    print(f'\\nTudo certo! o intervalo é [{a},{b}].\\n')\n",
        "# criando a lista com base no intervalo passado\n",
        "intervalo = [a + passo for passo in range(b-a+1)]\n",
        "print(f'O intervalo inserido: {intervalo}\\n\\nOs números ímpares do intervalo são:\\n')\n",
        "#verificando se o limite inferior é par pelo resto da divisão por 2\n",
        "if a % 2 == 0:\n",
        "  # primeiro é par, então, o proximo é impar\n",
        "  print(intervalo[1::2])\n",
        "else:\n",
        "  print(intervalo[0::2])"
      ],
      "execution_count": null,
      "outputs": [
        {
          "output_type": "stream",
          "name": "stdout",
          "text": [
            "Insira o limite inferior do intervalor (inteiro): 8\n",
            "Insira o limite superior do intervalor (inteiro), diferente do anterior: 19\n",
            "\n",
            "Tudo certo! o intervalo é [8,19].\n",
            "\n",
            "O intervalo inserido: [8, 9, 10, 11, 12, 13, 14, 15, 16, 17, 18, 19]\n",
            "\n",
            "Os números ímpares do intervalo são:\n",
            "\n",
            "[9, 11, 13, 15, 17, 19]\n"
          ]
        }
      ]
    },
    {
      "cell_type": "markdown",
      "metadata": {
        "id": "v3WqOrSLgyle"
      },
      "source": [
        "## Exercício 02\n",
        "<center><img width=\"70%\" src=\"https://cdn.loom.com/images/originals/c1e2a59dbbdf4d97b5e55e2f937d76fe.jpg?Expires=1637889111&Policy=eyJTdGF0ZW1lbnQiOlt7IlJlc291cmNlIjoiaHR0cHM6Ly9jZG4ubG9vbS5jb20vaW1hZ2VzL29yaWdpbmFscy9jMWUyYTU5ZGJiZGY0ZDk3YjVlNTVlMmY5MzdkNzZmZS5qcGciLCJDb25kaXRpb24iOnsiRGF0ZUxlc3NUaGFuIjp7IkFXUzpFcG9jaFRpbWUiOjE2Mzc4ODkxMTF9fX1dfQ__&Signature=FRZ~asvihfVl7CKd-4ERpSB6D9tMSvf-pRmwebdlJM9IbdxZHtQwcSz7Karh5kxPXiz50LFOil6iMmK5Bw1oFWaLaX4skMwxpvqsB5HfH7TF2YqiKz~EgQqIhaN6Cf5~mki10xmS~gxZ5HLYigZx1CAmZcRKoeod-DJmwh9EdGpIjzP5jghKISzpXJbzqAZpmzjvfHVPQEyJOZkMkFujiQh84YVSKwBOkPkkhqpL3vIPP9THkbdcDY1b4PDvXlH5hfY5FPsM3D4zN384ugB4QnBaxaBO7MMBfxws6~hhroFQ0ywUFkEP-ENPQw9AYfabE9P2-USapT4zk1t9NAwrmQ__&Key-Pair-Id=APKAJQIC5BGSW7XXK7FQ\"></center>"
      ]
    },
    {
      "cell_type": "code",
      "metadata": {
        "colab": {
          "base_uri": "https://localhost:8080/"
        },
        "id": "B7QKKGwbhT7U",
        "outputId": "b00344e0-15c6-4754-8e91-bca568e3273c"
      },
      "source": [
        "num = -1\n",
        "# laço para garantir que o valor inserido seja positvo\n",
        "while num <= 0:\n",
        "  num = int(input('Insira um número inteiro positivo: '))\n",
        "# criação da lista que inicia em 3\n",
        "lista_teste = [numero + 3 for numero in range(num-2)]\n",
        "# criando a lista que armazenará o resto da divisão por 2\n",
        "soma = [num % 2]\n",
        "# laço que passa pelos números impares na lista\n",
        "for i in lista_teste[0:-1:2]:\n",
        "  soma.append(num % i)\n",
        "# verificando se foi encontrado alguma divisão por zero\n",
        "if soma.count(0) == 0:\n",
        "  print(f'O número {num} é primo.')\n",
        "else:\n",
        "  print(f'o número {num} não é primo.')"
      ],
      "execution_count": 13,
      "outputs": [
        {
          "output_type": "stream",
          "name": "stdout",
          "text": [
            "Insira um número inteiro positivo: 880\n",
            "o número 880 não é primo.\n"
          ]
        }
      ]
    },
    {
      "cell_type": "markdown",
      "metadata": {
        "id": "wLE38BB4kqBn"
      },
      "source": [
        "## Exercício 03\n",
        "<center><img width=\"70%\" src=\"https://cdn.loom.com/images/originals/e7eaf5a7fcdd4c7eabf69ec71e05d202.jpg?Expires=1637891724&Policy=eyJTdGF0ZW1lbnQiOlt7IlJlc291cmNlIjoiaHR0cHM6Ly9jZG4ubG9vbS5jb20vaW1hZ2VzL29yaWdpbmFscy9lN2VhZjVhN2ZjZGQ0YzdlYWJmNjllYzcxZTA1ZDIwMi5qcGciLCJDb25kaXRpb24iOnsiRGF0ZUxlc3NUaGFuIjp7IkFXUzpFcG9jaFRpbWUiOjE2Mzc4OTE3MjR9fX1dfQ__&Signature=FEdNILL7Em27XHtcoHptqNG3v84tHijaLTilWZj4KbOltDQiqGwMQb0Cvv39pJdmfxLdG0tkwoPY-1aG0G9o7LKTMQ9ixvcENmZDkQOaj8LyZkbhiF~AbsMi1~ImIfPDi8DJsPzEMGg1T8cgbb5TjK1ukDokFtbHrV28LUjKDelIsSwa9WeYrrIEjDvPIOKXYH2WVt2-ehI-L59fY9XsObwPu24VDLwV4lHjTOmBUSUCT2YDAB3UioSOKz5tx5wrq-uhx3PNLs9mKwmnooW-1vJd-A6LkN5s4e3o97zzajN-~8KysoovnafRnGGvrd~3GHpWPnAe5d6TuE9REhkYTA__&Key-Pair-Id=APKAJQIC5BGSW7XXK7FQ\"></center>"
      ]
    },
    {
      "cell_type": "code",
      "metadata": {
        "colab": {
          "base_uri": "https://localhost:8080/"
        },
        "id": "0Rh956Kmj2Ci",
        "outputId": "e82bdea9-3f30-4d1e-e955-d934e7aa7f65"
      },
      "source": [
        "qtd = 0\n",
        "#laço para receber um valor positivo e maior que zero\n",
        "while(qtd<1):\n",
        "  qtd = int(input('Quanto números primos você quer visualizar? '))\n",
        "  if qtd < 1:\n",
        "    print('\\nO valor inserido deve ser um inteiro maior que zero, tente novamente.\\n')\n",
        "# como o menor valor inserido pelo usuário será 1 então 2 sempre vai contem\n",
        "primos = [2]\n",
        "num = 2\n",
        "# laço que irá repetir até ter o número de primos pedido\n",
        "while len(primos) < qtd:\n",
        "  # mesma ideia do exercicio anteior nesta parte\n",
        "  lista_teste = [numero + 3 for numero in range(num-2)]\n",
        "  soma = [num % 2]\n",
        "  for i in lista_teste[0:-1:2]:\n",
        "    soma.append(num % i) \n",
        "  if soma.count(0) == 0:\n",
        "    primos.append(num)\n",
        "  # atualizando contador para verificar o próximo número\n",
        "  num += 1\n",
        "print(primos)"
      ],
      "execution_count": 29,
      "outputs": [
        {
          "output_type": "stream",
          "name": "stdout",
          "text": [
            "Quanto números primos você quer visualizar? 168\n",
            "[2, 3, 5, 7, 11, 13, 17, 19, 23, 29, 31, 37, 41, 43, 47, 53, 59, 61, 67, 71, 73, 79, 83, 89, 97, 101, 103, 107, 109, 113, 127, 131, 137, 139, 149, 151, 157, 163, 167, 173, 179, 181, 191, 193, 197, 199, 211, 223, 227, 229, 233, 239, 241, 251, 257, 263, 269, 271, 277, 281, 283, 293, 307, 311, 313, 317, 331, 337, 347, 349, 353, 359, 367, 373, 379, 383, 389, 397, 401, 409, 419, 421, 431, 433, 439, 443, 449, 457, 461, 463, 467, 479, 487, 491, 499, 503, 509, 521, 523, 541, 547, 557, 563, 569, 571, 577, 587, 593, 599, 601, 607, 613, 617, 619, 631, 641, 643, 647, 653, 659, 661, 673, 677, 683, 691, 701, 709, 719, 727, 733, 739, 743, 751, 757, 761, 769, 773, 787, 797, 809, 811, 821, 823, 827, 829, 839, 853, 857, 859, 863, 877, 881, 883, 887, 907, 911, 919, 929, 937, 941, 947, 953, 967, 971, 977, 983, 991, 997]\n"
          ]
        }
      ]
    },
    {
      "cell_type": "markdown",
      "metadata": {
        "id": "GxBnZfuXyY4Q"
      },
      "source": [
        "## Exercício 04\n",
        "<center><img width=\"70%\" src=\"https://cdn.loom.com/images/originals/85f9a5a6e6114f64b505e682cd4e2ea9.jpg?Expires=1637893038&Policy=eyJTdGF0ZW1lbnQiOlt7IlJlc291cmNlIjoiaHR0cHM6Ly9jZG4ubG9vbS5jb20vaW1hZ2VzL29yaWdpbmFscy84NWY5YTVhNmU2MTE0ZjY0YjUwNWU2ODJjZDRlMmVhOS5qcGciLCJDb25kaXRpb24iOnsiRGF0ZUxlc3NUaGFuIjp7IkFXUzpFcG9jaFRpbWUiOjE2Mzc4OTMwMzh9fX1dfQ__&Signature=ftDjTiNWkOsMYDlMZT8AnvtNSQPH-FBL~uxyAoaJQV-1W5p6-d2dlrj4I7JwOGYhykz6vP-2hhcXhmWKEEynDGMYpL3fdw4UjfbzPS8wVrQcyfE2ga45ORonLlBBXKDPzwGfbMpehcFLCJCcOk1wDIWf55l5ncTsCv9WSb8k67ZYuHoZ6JmbiYdXbPzroJUvC60p1-k8gk-J-xiWjfTKHik7IkH2qePnP5dDbDRYNJcr3-8CkjmUVT-dcQ1Ui-~jwztqnlwC-6PG8qL8g2AiPg1KEaJ16xgOeRd~CG~L0KRV4sJkI7zx2avLzxaKmvy8JAyHwtIXbhstkiMm0qJ2SA__&Key-Pair-Id=APKAJQIC5BGSW7XXK7FQ\"></center>\n"
      ]
    },
    {
      "cell_type": "code",
      "metadata": {
        "id": "tYSedgkey0Cm",
        "outputId": "81b5848b-399a-4e43-d4db-aa8453ed71d4",
        "colab": {
          "base_uri": "https://localhost:8080/"
        }
      },
      "source": [
        "import random\n",
        "qte_num_aleatorios = int(input(\"Quantos números aleatorios você quer gerar? \"))\n",
        "lista_aleatorios = []\n",
        "# preenchendo a lista de aleatorios com base quantidade passada pelo usuário\n",
        "for i in range(qte_num_aleatorios):\n",
        "  lista_aleatorios.append(random.randint(1,100))\n",
        "# ordenando a lista para facilitar visualização\n",
        "lista_aleatorios = sorted(lista_aleatorios)\n",
        "print(f'\\nA lista gerada foi:\\n\\n\\t{lista_aleatorios}')\n",
        "# garantindo de que limite infeiro seja menor que o superior\n",
        "lim_sup,lim_inf = 0,1\n",
        "while lim_sup < lim_inf:\n",
        "  lim_inf = int(input(\"\\nInsira o limite inferior (valor inteiro e positivo): \"))\n",
        "  lim_sup = int(input(\"Insira o limite superior (valor inteiro e positivo): \"))\n",
        "lista_tupla = []\n",
        "# preenchendo a lista com tupla\n",
        "for posicao in range(len(lista_aleatorios)):\n",
        "  if lim_inf < lista_aleatorios[posicao] < lim_sup:\n",
        "    lista_tupla.append((lista_aleatorios[posicao],posicao))\n",
        "print(f'\\nOs valores e a posição deles na lista original em que os valores estão entre os limites ]{lim_inf},{lim_sup}[:\\n\\n\\t{lista_tupla}')"
      ],
      "execution_count": 60,
      "outputs": [
        {
          "output_type": "stream",
          "name": "stdout",
          "text": [
            "Quantos números aleatorios você quer gerar? 15\n",
            "\n",
            "A lista gerada foi:\n",
            "\n",
            "\t[2, 14, 17, 20, 26, 45, 49, 51, 67, 70, 82, 84, 90, 93, 98]\n",
            "\n",
            "Insira o limite inferior (valor inteiro e positivo): 44\n",
            "Insira o limite superior (valor inteiro e positivo): 82\n",
            "\n",
            "Os valores e a posição deles na lista original em que os valores estão entre os limites ]44,82[:\n",
            "\n",
            "\t[(45, 5), (49, 6), (51, 7), (67, 8), (70, 9)]\n"
          ]
        }
      ]
    },
    {
      "cell_type": "markdown",
      "metadata": {
        "id": "nXS3qD8qUlo1"
      },
      "source": [
        "## Exercício 05\n",
        "<center><img width=\"70%\" src=\"https://cdn.loom.com/images/originals/942c897c68e044f4b10718eb7d3bcb5d.jpg?Expires=1637893014&Policy=eyJTdGF0ZW1lbnQiOlt7IlJlc291cmNlIjoiaHR0cHM6Ly9jZG4ubG9vbS5jb20vaW1hZ2VzL29yaWdpbmFscy85NDJjODk3YzY4ZTA0NGY0YjEwNzE4ZWI3ZDNiY2I1ZC5qcGciLCJDb25kaXRpb24iOnsiRGF0ZUxlc3NUaGFuIjp7IkFXUzpFcG9jaFRpbWUiOjE2Mzc4OTMwMTR9fX1dfQ__&Signature=VX7gT04mXmzoou2IWrnYKLcMmE1D3pBdpDljWIg~g4D2FfcFM0HibJxc06CTFgQAUXUzsJ91e1C9ofaHU1Qbo65blIJBboFjE7x99m~ueBBz6xjZNnfe8iNzQyk57UpUNbgSIf1uFvgiZXq9j~N8nUVHryISyT~pExPxWq5mI-Qzu23fMGK9Qnl6jNNEtJVxcY38VdIap5um88gms9HxTyqqvAIV-Us-3SSYyeNu2TEa8CCMEKItAu3MDU8cF6hF1s8mtu2~SNmnutMWSqAAC8WbUzbfJnPkabuiB5~KKMNAr721WW2oh4JdbBkjGypKqlFF8R~P0lAIOzD1tOXpRw__&Key-Pair-Id=APKAJQIC5BGSW7XXK7FQ\"></center>\n"
      ]
    },
    {
      "cell_type": "code",
      "metadata": {
        "id": "Nr9bPIm8x_lB",
        "outputId": "fb29aacb-ed3c-4bfb-b07c-22210f756967",
        "colab": {
          "base_uri": "https://localhost:8080/"
        }
      },
      "source": [
        "import random\n",
        "qte_num_aleatorios = int(input(\"Quantos números aleatorios você quer gerar? \"))\n",
        "# criando lista com compreensão de listas\n",
        "lista_aleatorios = sorted([random.randint(1,100) for i in range(qte_num_aleatorios)])\n",
        "print(f'\\nA lista gerada foi:\\n\\n\\t{lista_aleatorios}')\n",
        "lim_sup,lim_inf = 0,1\n",
        "while lim_sup < lim_inf:\n",
        "  lim_inf = int(input(\"\\nInsira o limite inferior (valor inteiro e positivo): \"))\n",
        "  lim_sup = int(input(\"Insira o limite superior (valor inteiro e positivo): \"))\n",
        "# criando a lista de tupla compreensão de listas\n",
        "lista_tupla = [(lista_aleatorios[posicao],posicao) for posicao in range(len(lista_aleatorios)) if lim_inf < lista_aleatorios[posicao] < lim_sup]\n",
        "print(f'\\nOs valores e a posição deles na lista original em que os valores estão entre os limites ]{lim_inf},{lim_sup}[:\\n\\n\\t{lista_tupla}')"
      ],
      "execution_count": 58,
      "outputs": [
        {
          "output_type": "stream",
          "name": "stdout",
          "text": [
            "Quantos números aleatorios você quer gerar? 15\n",
            "\n",
            "A lista gerada foi:\n",
            "\n",
            "\t[2, 5, 25, 25, 27, 31, 46, 50, 53, 53, 57, 61, 72, 76, 98]\n",
            "\n",
            "Insira o limite inferior (valor inteiro e positivo): 30\n",
            "Insira o limite superior (valor inteiro e positivo): 57\n",
            "\n",
            "Os valores e a posição deles na lista original em que os valores estão entre os limites ]30,57[:\n",
            "\n",
            "\t[(31, 5), (46, 6), (50, 7), (53, 8), (53, 9)]\n"
          ]
        }
      ]
    },
    {
      "cell_type": "markdown",
      "metadata": {
        "id": "q25qQMNfpRNH"
      },
      "source": [
        "## Exercício 06\n",
        "<center><img width=\"70%\" src=\"https://cdn.loom.com/images/originals/fa7fffba140c42a49a8b091ce3d98252.jpg?Expires=1637892873&Policy=eyJTdGF0ZW1lbnQiOlt7IlJlc291cmNlIjoiaHR0cHM6Ly9jZG4ubG9vbS5jb20vaW1hZ2VzL29yaWdpbmFscy9mYTdmZmZiYTE0MGM0MmE0OWE4YjA5MWNlM2Q5ODI1Mi5qcGciLCJDb25kaXRpb24iOnsiRGF0ZUxlc3NUaGFuIjp7IkFXUzpFcG9jaFRpbWUiOjE2Mzc4OTI4NzN9fX1dfQ__&Signature=auw0NOXt11UugAeHe~bKVBo13y8ZYeUcUL0rzYak1EKk-ltWrP2HEcVd2gKRUOCVhZklWWzivOxvSixDcxi~X4nOWSmrp1D3i-xcAHMllBGwbdjQHbAaLWJlMPIaPfxCWDnwpjW~x~upKJXBqC-jZrtOOb0FVagPYF-Wx1w6XmuNS35JPxIqgybg37LOvY3~QxhEFekpVOXDrrd70kWarQmTV-dDWYzSyPeAb0gQiarq3eQTsIGB0aDI8bTVy18LSfNNPuSyfyl6wNkBj0CaaLFq-m7qrP-NLOf5qUVstkHm71YI9BlrZrnIZ2MjFQOI8mCNv8LFuoYPeOikv~qOHQ__&Key-Pair-Id=APKAJQIC5BGSW7XXK7FQ\"></center>\n"
      ]
    },
    {
      "cell_type": "code",
      "metadata": {
        "colab": {
          "base_uri": "https://localhost:8080/"
        },
        "id": "bGi1xu9wtn6X",
        "outputId": "7997449f-8516-4077-bdd2-9b6d6f9bb421"
      },
      "source": [
        "# recebendo a frase e deixando-a em maiúscula\n",
        "frase = input('Insira uma frase sem acentro e pontuações: \\n\\t').upper()\n",
        "# criando o dicionário com as aparições zeradas\n",
        "dic_alfabeto = {'A': 0, 'B': 0, 'C': 0, 'D': 0, 'E': 0, 'F': 0, 'G': 0, 'H': 0, 'I': 0, 'J': 0, 'K': 0, 'L': 0, 'M': 0, 'N': 0, 'O': 0, 'P': 0, 'Q': 0, 'R': 0, 'S': 0, 'T': 0, 'U': 0, 'V': 0, 'W': 0, 'X': 0, 'Y': 0, 'Z': 0}\n",
        "# for para iterar letra a letra na frase inserida\n",
        "for letra_frase in range(len(frase)):\n",
        "  # for para iterar cada letra da frase em todas as chaves do dicionário\n",
        "  for letra_alfabeto in range(len(list(dic_alfabeto.keys()))):\n",
        "    # condicional para verificar se letra da frase é a letra da chave\n",
        "    if frase[letra_frase] is list(dic_alfabeto.keys())[letra_alfabeto]:\n",
        "      dic_alfabeto[list(dic_alfabeto.keys())[letra_alfabeto]] += 1\n",
        "    # caso seja qualquer coisa chave diferente das chaves do dicionário não vamos contabilizar - resolvendo a questão do espaço\n",
        "    else:\n",
        "      pass\n",
        "# imprimindo o dicionário com as aparições atualizadas\n",
        "print(dic_alfabeto)"
      ],
      "execution_count": null,
      "outputs": [
        {
          "name": "stdout",
          "output_type": "stream",
          "text": [
            "Insira uma frase sem acentro e pontuações: \n",
            "\tDouglas Camargo dos santos\n",
            "{'A': 4, 'B': 0, 'C': 1, 'D': 2, 'E': 0, 'F': 0, 'G': 2, 'H': 0, 'I': 0, 'J': 0, 'K': 0, 'L': 1, 'M': 1, 'N': 1, 'O': 4, 'P': 0, 'Q': 0, 'R': 1, 'S': 4, 'T': 1, 'U': 1, 'V': 0, 'W': 0, 'X': 0, 'Y': 0, 'Z': 0}\n"
          ]
        }
      ]
    },
    {
      "cell_type": "markdown",
      "metadata": {
        "id": "HvUXM-422cqQ"
      },
      "source": [
        "## Exercício 07\n",
        "<center><img width=\"70%\" src=\"https://cdn.loom.com/images/originals/6f98bf66291b484fa3a7de36cbc6b542.jpg?Expires=1637892826&Policy=eyJTdGF0ZW1lbnQiOlt7IlJlc291cmNlIjoiaHR0cHM6Ly9jZG4ubG9vbS5jb20vaW1hZ2VzL29yaWdpbmFscy82Zjk4YmY2NjI5MWI0ODRmYTNhN2RlMzZjYmM2YjU0Mi5qcGciLCJDb25kaXRpb24iOnsiRGF0ZUxlc3NUaGFuIjp7IkFXUzpFcG9jaFRpbWUiOjE2Mzc4OTI4MjZ9fX1dfQ__&Signature=MIYZ9dcf9eP~xFpSfg-gpNecdW-6DwWqQQQNQEy3v9-yZ~AxYhohGtGXWGuWrnf7CsffpFIIpFPDfE6~Hl5d4Z5-EKtmjKEtJQWMeWbp6rFLNvbNTHBW-D~hu4xf3iFtb2QsJKlv~7kLS7mfoEdzh9fBhvT0GTCw2gjqFlN0lPEhJlmMvMypO8Ruuczh87vV2io1beSw9inGvMIojqnK~sUKoOz7IaJtMdHTjeuMgbcN0w9KiqcpEto8QAINlYdW-AhML5R~Jb8IgI-sklBnjQ0oU5gX0uyulIyQDh9Wrr5RJrbe35j8sIO0fYhOWXMooy1gywF4YCWi5nQOy43l8g__&Key-Pair-Id=APKAJQIC5BGSW7XXK7FQ\"></center>\n"
      ]
    },
    {
      "cell_type": "code",
      "metadata": {
        "colab": {
          "base_uri": "https://localhost:8080/"
        },
        "id": "DvGA6h1LxkAo",
        "outputId": "be8f57fa-2e1d-4b76-9abb-dc15e8b75fe7"
      },
      "source": [
        "# recebendo a frase e deixando-a em maiúscula\n",
        "frase = input('Insira uma frase sem acentro e pontuações: \\n\\t').upper()\n",
        "# criando o dicionário com as aparições zeradas\n",
        "chaves = []\n",
        "for letra in range(len(frase)):\n",
        "  if not(frase[letra] in chaves) and frase[letra] != \" \":\n",
        "    chaves.append(frase[letra])\n",
        "letras_unicas = {chaves[i]: 0 for i in range(len(chaves))}\n",
        "# for para iterar letra a letra na frase inserida\n",
        "for letra_frase in range(len(frase)):\n",
        "  # for para iterar cada letra da frase em todas as chaves do dicionário\n",
        "  for letra_alfabeto in range(len(list(letras_unicas.keys()))):\n",
        "    # condicional para verificar se letra da frase é a letra da chave\n",
        "    if frase[letra_frase] is list(letras_unicas.keys())[letra_alfabeto]:\n",
        "      letras_unicas[list(letras_unicas.keys())[letra_alfabeto]] += 1\n",
        "    # caso seja qualquer coisa chave diferente das chaves do dicionário não vamos contabilizar - resolvendo a questão do espaço\n",
        "    else:\n",
        "      pass\n",
        "# imprimindo o dicionário com as aparições atualizadas\n",
        "print(letras_unicas)"
      ],
      "execution_count": null,
      "outputs": [
        {
          "name": "stdout",
          "output_type": "stream",
          "text": [
            "Insira uma frase sem acentro e pontuações: \n",
            "\tDouglas Camargo dos aSantos\n",
            "{'D': 2, 'O': 4, 'U': 1, 'G': 2, 'L': 1, 'A': 5, 'S': 4, 'C': 1, 'M': 1, 'R': 1, 'N': 1, 'T': 1}\n"
          ]
        }
      ]
    }
  ]
}